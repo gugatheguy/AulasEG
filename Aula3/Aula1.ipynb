{
  "cells": [
    {
      "cell_type": "markdown",
      "metadata": {
        "id": "ojTYBZpEzq9q"
      },
      "source": [
        "# lark - transformers v1"
      ]
    },
    {
      "cell_type": "code",
      "execution_count": 2,
      "metadata": {
        "colab": {
          "base_uri": "https://localhost:8080/"
        },
        "id": "vn9bcsUYz01c",
        "outputId": "0f00c8dd-3c88-4147-8bae-2570e36ea138"
      },
      "outputs": [
        {
          "name": "stdout",
          "output_type": "stream",
          "text": [
            "[1, 2, 3]\n",
            "{'soma': 6, 'comprimento': 3}\n"
          ]
        }
      ],
      "source": [
        "from lark import Lark,Token\n",
        "from lark import Transformer\n",
        "\n",
        "class TransformaLista(Transformer):\n",
        "\n",
        "  def __init__(self):\n",
        "    self.soma = 0\n",
        "    self.comp = 0\n",
        "    self.output = dict()\n",
        "\n",
        "  def start(self,item):\n",
        "    print(item[1])\n",
        "    self.output = {}\n",
        "    #self.soma = sum(item[1])\n",
        "    #self.comp = len(item[1])\n",
        "    self.output[\"soma\"] = self.soma\n",
        "    self.output[\"comprimento\"] = self.comp\n",
        "    return self.output\n",
        "  \n",
        "  def elemento(self,elemento):\n",
        "    r = list(filter(lambda x: x!=',',elemento))\n",
        "    return r\n",
        "  \n",
        "  def PE(self,pe):\n",
        "    return str(pe)\n",
        "\n",
        "  def PD(self,pd):\n",
        "    return str(pd)\n",
        "\n",
        "  def VIR(self,vir):\n",
        "    return str(vir)\n",
        "  \n",
        "  def NUMERO(self,numero):\n",
        "    self.soma += int(numero)\n",
        "    self.comp += 1\n",
        "    return int(numero)\n",
        "\n",
        "grammar = '''\n",
        "start : PE elemento PD\n",
        "elemento : NUMERO (VIR NUMERO)*\n",
        "PE : \"[\"\n",
        "PD : \"]\"\n",
        "VIR : \",\"\n",
        "NUMERO : (\"0\"..\"9\")+\n",
        "%import common.WS\n",
        "%ignore WS\n",
        "'''\n",
        "\n",
        "l = Lark(grammar)\n",
        "frase = \"[1, 2,3]\"\n",
        "tree = l.parse(frase)\n",
        "\n",
        "#for element in tree.children:\n",
        "    #print(element)\n",
        "\n",
        "data = TransformaLista().transform(tree)\n",
        "print(data)\n",
        "\n",
        "\n"
      ]
    },
    {
      "cell_type": "markdown",
      "metadata": {
        "id": "27tYkkne9Mbd"
      },
      "source": [
        "Exercicio 1"
      ]
    },
    {
      "cell_type": "code",
      "execution_count": null,
      "metadata": {
        "id": "740sdr4w9OrG"
      },
      "outputs": [],
      "source": []
    },
    {
      "cell_type": "markdown",
      "metadata": {
        "id": "9EeK862tW6zF"
      },
      "source": [
        "# lark - transformers v2"
      ]
    },
    {
      "cell_type": "code",
      "execution_count": 5,
      "metadata": {
        "colab": {
          "base_uri": "https://localhost:8080/"
        },
        "id": "G26p57-QWBE3",
        "outputId": "f40af340-8a17-4f5d-fd16-48830f00aeb4"
      },
      "outputs": [
        {
          "name": "stdout",
          "output_type": "stream",
          "text": [
            "{'soma': 6, 'comprimento': 3}\n"
          ]
        }
      ],
      "source": [
        "from lark import Lark,Token\n",
        "from lark import Transformer\n",
        "from lark import Discard\n",
        "\n",
        "class TransformaLista(Transformer):\n",
        "\n",
        "  def __init__(self):\n",
        "    self.soma = 0\n",
        "    self.output = dict()\n",
        "    self.comprimento = 0\n",
        "\n",
        "  def start(self,item):\n",
        "    #print(item[1])\n",
        "    #self.output = {}\n",
        "    #self.soma = sum(item[1])\n",
        "    #self.comprimento = len(item[1])\n",
        "    self.output[\"soma\"] = self.soma\n",
        "    self.output[\"comprimento\"] = self.comprimento\n",
        "    return self.output\n",
        "  \n",
        "  def elementos(self,elementos):\n",
        "    #r = list(filter(lambda x: x!=',',elementos))\n",
        "    return elementos\n",
        "  \n",
        "  def PE(self,pe):\n",
        "    return str(pe)\n",
        "\n",
        "  def PD(self,pd):\n",
        "    return str(pd)\n",
        "\n",
        "  def VIR(self,vir):\n",
        "    return Discard\n",
        "  \n",
        "  def NUMERO(self,numero):\n",
        "    self.soma += int(numero)\n",
        "    self.comprimento += 1\n",
        "    return int(numero)\n",
        "\n",
        "grammar = '''\n",
        "start : PE elementos PD\n",
        "elementos : NUMERO (VIR NUMERO)*\n",
        "PE : \"[\"\n",
        "PD : \"]\"\n",
        "VIR : \",\"\n",
        "NUMERO : (\"0\"..\"9\")+\n",
        "%import common.WS\n",
        "%ignore WS\n",
        "'''\n",
        "\n",
        "l = Lark(grammar)\n",
        "frase = \"[1, 2,3]\"\n",
        "tree = l.parse(frase)\n",
        "\n",
        "#for element in tree.children:\n",
        "    #print(element)\n",
        "\n",
        "data = TransformaLista().transform(tree)\n",
        "print(data)\n",
        "\n",
        "\n"
      ]
    }
  ],
  "metadata": {
    "colab": {
      "collapsed_sections": [],
      "name": "Aula1.ipynb",
      "provenance": []
    },
    "kernelspec": {
      "display_name": "Python 3",
      "name": "python3"
    },
    "language_info": {
      "codemirror_mode": {
        "name": "ipython",
        "version": 3
      },
      "file_extension": ".py",
      "mimetype": "text/x-python",
      "name": "python",
      "nbconvert_exporter": "python",
      "pygments_lexer": "ipython3",
      "version": "3.10.2"
    }
  },
  "nbformat": 4,
  "nbformat_minor": 0
}
